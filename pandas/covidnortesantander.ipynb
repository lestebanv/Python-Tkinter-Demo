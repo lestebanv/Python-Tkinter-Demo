{
 "cells": [
  {
   "cell_type": "markdown",
   "metadata": {},
   "source": [
    "DataFrames de Pandas\n",
    "Ejercicio\n",
    "\n",
    "Carga de datos desde excel \n",
    "   pd.read_excel(\"nombre del archivo\",sheet_name=\"nombre hoja\")\n",
    "   \n",
    "Filtrado de columnas\n",
    "\n",
    "df_nuevo = df_original[[Lista de nombres de columnas a dejar]]\n",
    "\n",
    "Filtrado de Filas\n",
    "\n",
    "df_nuevo = df_original[(expresion booleana)]\n",
    "\n",
    "Ejemplo:\n",
    "\n",
    "df_nuevo =df_original[ ( (df_original[\"seriex\"]==\"valorafiltrar\") \n",
    "                                    & (df_original[\"seriey\"]==\"valorafiltrar2\") \n",
    "                                    & (df_original[\"seriew\"]==\"valorafiltra3\"))\n",
    "                               ]\n",
    "\n",
    "Agrupamiento\n",
    "\n",
    "df_nuevo = df_original.groupby([lista de columnas para agrupar])[\"columna a operar \"].sum().reset_index()\n",
    "\n",
    "\n",
    "df_nuevo=df_original.groupby([columnas])[\"columna a calcular\"].agg(nombrenuevacolumna='sum', nombreotranuevacolumna='count').reset_index()\n",
    "\n",
    "\n",
    "para guardar dataframe en archivo excel\n",
    "\n",
    "df_nuevo.to_excel(\"nombrenuevo.xlsx\")"
   ]
  },
  {
   "cell_type": "markdown",
   "metadata": {},
   "source": [
    "Origen de los datos\n",
    "https://www.datos.gov.co/Salud-y-Protecci-n-Social/Casos-positivos-de-COVID-19-en-Colombia/gt2j-8ykr/data\n"
   ]
  },
  {
   "cell_type": "code",
   "execution_count": 17,
   "metadata": {},
   "outputs": [
    {
     "name": "stdout",
     "output_type": "stream",
     "text": [
      "<class 'pandas.core.frame.DataFrame'>\n",
      "RangeIndex: 88187 entries, 0 to 88186\n",
      "Data columns (total 23 columns):\n",
      " #   Column                        Non-Null Count  Dtype         \n",
      "---  ------                        --------------  -----         \n",
      " 0   fecha reporte web             88187 non-null  datetime64[ns]\n",
      " 1   ID de caso                    19751 non-null  float64       \n",
      " 2   Fecha de notificación         88187 non-null  datetime64[ns]\n",
      " 3   Código DIVIPOLA departamento  88187 non-null  int64         \n",
      " 4   Nombre departamento           88187 non-null  object        \n",
      " 5   Código DIVIPOLA municipio     88187 non-null  float64       \n",
      " 6   Nombre municipio              88187 non-null  object        \n",
      " 7   Edad                          88187 non-null  int64         \n",
      " 8   Unidad de medida de edad      88187 non-null  int64         \n",
      " 9   Sexo                          88187 non-null  object        \n",
      " 10  Tipo de contagio              88187 non-null  object        \n",
      " 11  Ubicación del caso            87801 non-null  object        \n",
      " 12  Estado                        87801 non-null  object        \n",
      " 13  Código ISO del país           93 non-null     float64       \n",
      " 14  Nombre del país               93 non-null     object        \n",
      " 15  Recuperado                    87846 non-null  object        \n",
      " 16  Fecha de inicio de síntomas   86988 non-null  datetime64[ns]\n",
      " 17  Fecha de muerte               4518 non-null   datetime64[ns]\n",
      " 18  Fecha de diagnóstico          88170 non-null  datetime64[ns]\n",
      " 19  Fecha de recuperación         83420 non-null  datetime64[ns]\n",
      " 20  Tipo de recuperación          83420 non-null  object        \n",
      " 21  Pertenencia étnica            87925 non-null  float64       \n",
      " 22  Nombre del grupo étnico       179 non-null    object        \n",
      "dtypes: datetime64[ns](6), float64(4), int64(3), object(10)\n",
      "memory usage: 15.5+ MB\n"
     ]
    }
   ],
   "source": [
    "import pandas as pd\n",
    "covid_norte=pd.read_excel(\"20210818Norte de santander.xlsx\")\n",
    "covid_norte.info()"
   ]
  },
  {
   "cell_type": "code",
   "execution_count": 2,
   "metadata": {},
   "outputs": [
    {
     "name": "stdout",
     "output_type": "stream",
     "text": [
      "<class 'pandas.core.frame.DataFrame'>\n",
      "RangeIndex: 88187 entries, 0 to 88186\n",
      "Data columns (total 9 columns):\n",
      " #   Column                       Non-Null Count  Dtype         \n",
      "---  ------                       --------------  -----         \n",
      " 0   fecha reporte web            88187 non-null  datetime64[ns]\n",
      " 1   Nombre municipio             88187 non-null  object        \n",
      " 2   Edad                         88187 non-null  int64         \n",
      " 3   Unidad de medida de edad     88187 non-null  int64         \n",
      " 4   Sexo                         88187 non-null  object        \n",
      " 5   Tipo de contagio             88187 non-null  object        \n",
      " 6   Estado                       87801 non-null  object        \n",
      " 7   Fecha de inicio de síntomas  86988 non-null  datetime64[ns]\n",
      " 8   Fecha de muerte              4518 non-null   datetime64[ns]\n",
      "dtypes: datetime64[ns](3), int64(2), object(4)\n",
      "memory usage: 6.1+ MB\n"
     ]
    }
   ],
   "source": [
    "\"\"\"\n",
    "seleccion de columnas\n",
    "\"\"\"\n",
    "columnas_de_interes=[\"fecha reporte web\",\"Nombre municipio\",\"Edad\",\"Unidad de medida de edad\",\"Sexo\",\"Tipo de contagio\",\"Estado\",\"Fecha de inicio de síntomas\",\"Fecha de muerte\"]\n",
    "covid_norte=covid_norte[columnas_de_interes]\n",
    "covid_norte.info()"
   ]
  },
  {
   "cell_type": "code",
   "execution_count": 18,
   "metadata": {},
   "outputs": [],
   "source": [
    "covid_norte.to_excel(\"massimple.xlsx\")"
   ]
  },
  {
   "cell_type": "code",
   "execution_count": 4,
   "metadata": {},
   "outputs": [
    {
     "data": {
      "text/html": [
       "<div>\n",
       "<style scoped>\n",
       "    .dataframe tbody tr th:only-of-type {\n",
       "        vertical-align: middle;\n",
       "    }\n",
       "\n",
       "    .dataframe tbody tr th {\n",
       "        vertical-align: top;\n",
       "    }\n",
       "\n",
       "    .dataframe thead th {\n",
       "        text-align: right;\n",
       "    }\n",
       "</style>\n",
       "<table border=\"1\" class=\"dataframe\">\n",
       "  <thead>\n",
       "    <tr style=\"text-align: right;\">\n",
       "      <th></th>\n",
       "      <th>fecha reporte web</th>\n",
       "      <th>Nombre municipio</th>\n",
       "      <th>Edad</th>\n",
       "      <th>Unidad de medida de edad</th>\n",
       "      <th>Sexo</th>\n",
       "      <th>Tipo de contagio</th>\n",
       "      <th>Estado</th>\n",
       "      <th>Fecha de inicio de síntomas</th>\n",
       "      <th>Fecha de muerte</th>\n",
       "    </tr>\n",
       "  </thead>\n",
       "  <tbody>\n",
       "    <tr>\n",
       "      <th>88184</th>\n",
       "      <td>2021-08-17</td>\n",
       "      <td>CUCUTA</td>\n",
       "      <td>3</td>\n",
       "      <td>1</td>\n",
       "      <td>M</td>\n",
       "      <td>En estudio</td>\n",
       "      <td>Leve</td>\n",
       "      <td>2021-07-31</td>\n",
       "      <td>NaT</td>\n",
       "    </tr>\n",
       "    <tr>\n",
       "      <th>88185</th>\n",
       "      <td>2021-08-17</td>\n",
       "      <td>CUCUTA</td>\n",
       "      <td>47</td>\n",
       "      <td>1</td>\n",
       "      <td>M</td>\n",
       "      <td>En estudio</td>\n",
       "      <td>Leve</td>\n",
       "      <td>2021-07-31</td>\n",
       "      <td>NaT</td>\n",
       "    </tr>\n",
       "    <tr>\n",
       "      <th>88186</th>\n",
       "      <td>2021-08-17</td>\n",
       "      <td>CUCUTA</td>\n",
       "      <td>46</td>\n",
       "      <td>1</td>\n",
       "      <td>M</td>\n",
       "      <td>En estudio</td>\n",
       "      <td>Leve</td>\n",
       "      <td>2021-07-31</td>\n",
       "      <td>NaT</td>\n",
       "    </tr>\n",
       "  </tbody>\n",
       "</table>\n",
       "</div>"
      ],
      "text/plain": [
       "      fecha reporte web Nombre municipio  Edad  Unidad de medida de edad Sexo  \\\n",
       "88184        2021-08-17           CUCUTA     3                         1    M   \n",
       "88185        2021-08-17           CUCUTA    47                         1    M   \n",
       "88186        2021-08-17           CUCUTA    46                         1    M   \n",
       "\n",
       "      Tipo de contagio Estado Fecha de inicio de síntomas Fecha de muerte  \n",
       "88184       En estudio   Leve                  2021-07-31             NaT  \n",
       "88185       En estudio   Leve                  2021-07-31             NaT  \n",
       "88186       En estudio   Leve                  2021-07-31             NaT  "
      ]
     },
     "execution_count": 4,
     "metadata": {},
     "output_type": "execute_result"
    }
   ],
   "source": [
    "covid_norte.tail(3)"
   ]
  },
  {
   "cell_type": "code",
   "execution_count": 19,
   "metadata": {},
   "outputs": [
    {
     "name": "stdout",
     "output_type": "stream",
     "text": [
      "<class 'pandas.core.frame.DataFrame'>\n",
      "Int64Index: 4740 entries, 97 to 88159\n",
      "Data columns (total 23 columns):\n",
      " #   Column                        Non-Null Count  Dtype         \n",
      "---  ------                        --------------  -----         \n",
      " 0   fecha reporte web             4740 non-null   datetime64[ns]\n",
      " 1   ID de caso                    836 non-null    float64       \n",
      " 2   Fecha de notificación         4740 non-null   datetime64[ns]\n",
      " 3   Código DIVIPOLA departamento  4740 non-null   int64         \n",
      " 4   Nombre departamento           4740 non-null   object        \n",
      " 5   Código DIVIPOLA municipio     4740 non-null   float64       \n",
      " 6   Nombre municipio              4740 non-null   object        \n",
      " 7   Edad                          4740 non-null   int64         \n",
      " 8   Unidad de medida de edad      4740 non-null   int64         \n",
      " 9   Sexo                          4740 non-null   object        \n",
      " 10  Tipo de contagio              4740 non-null   object        \n",
      " 11  Ubicación del caso            4714 non-null   object        \n",
      " 12  Estado                        4714 non-null   object        \n",
      " 13  Código ISO del país           0 non-null      float64       \n",
      " 14  Nombre del país               0 non-null      object        \n",
      " 15  Recuperado                    4716 non-null   object        \n",
      " 16  Fecha de inicio de síntomas   4641 non-null   datetime64[ns]\n",
      " 17  Fecha de muerte               212 non-null    datetime64[ns]\n",
      " 18  Fecha de diagnóstico          4739 non-null   datetime64[ns]\n",
      " 19  Fecha de recuperación         4520 non-null   datetime64[ns]\n",
      " 20  Tipo de recuperación          4520 non-null   object        \n",
      " 21  Pertenencia étnica            4734 non-null   float64       \n",
      " 22  Nombre del grupo étnico       13 non-null     object        \n",
      "dtypes: datetime64[ns](6), float64(4), int64(3), object(10)\n",
      "memory usage: 888.8+ KB\n"
     ]
    }
   ],
   "source": [
    "df_pamplona=covid_norte[covid_norte[\"Nombre municipio\"]==\"PAMPLONA\"  ]\n",
    "\n",
    "df_pamplona.info()\n"
   ]
  },
  {
   "cell_type": "code",
   "execution_count": 6,
   "metadata": {},
   "outputs": [
    {
     "data": {
      "text/plain": [
       "<AxesSubplot:xlabel='fecha reporte web'>"
      ]
     },
     "execution_count": 6,
     "metadata": {},
     "output_type": "execute_result"
    },
    {
     "data": {
      "image/png": "[encoded data removed]",
      "text/plain": [
       "<Figure size 432x288 with 1 Axes>"
      ]
     },
     "metadata": {
      "needs_background": "light"
     },
     "output_type": "display_data"
    }
   ],
   "source": [
    "df_pamplona1=df_pamplona.groupby(\"fecha reporte web\")[\"Edad\"].agg(contagios=\"count\").reset_index()\n",
    "df_pamplona1.plot(x=\"fecha reporte web\",y=\"contagios\")"
   ]
  },
  {
   "cell_type": "code",
   "execution_count": 7,
   "metadata": {},
   "outputs": [
    {
     "data": {
      "text/plain": [
       "<AxesSubplot:xlabel='Fecha de muerte'>"
      ]
     },
     "execution_count": 7,
     "metadata": {},
     "output_type": "execute_result"
    },
    {
     "data": {
      "image/png": "[encoded data removed]",
      "text/plain": [
       "<Figure size 432x288 with 1 Axes>"
      ]
     },
     "metadata": {
      "needs_background": "light"
     },
     "output_type": "display_data"
    }
   ],
   "source": [
    "df_pamplona2=df_pamplona[df_pamplona[\"Fecha de muerte\"].isnull()==False ]\n",
    "#df_pamplona2.info()\n",
    "df_pamplona2=df_pamplona2.groupby(\"Fecha de muerte\")[\"Edad\"].agg(muertes=\"count\").reset_index()\n",
    "df_pamplona2.plot(x=\"Fecha de muerte\",y=\"muertes\")"
   ]
  },
  {
   "cell_type": "code",
   "execution_count": 13,
   "metadata": {},
   "outputs": [],
   "source": [
    "covid_norte_por_municipio = covid_norte.groupby([\"Nombre municipio\",\"Sexo\"])[\"Edad\"].count().reset_index()\n",
    "covid_norte_por_municipio.to_csv(\"hola.csv\")"
   ]
  },
  {
   "cell_type": "code",
   "execution_count": 14,
   "metadata": {},
   "outputs": [
    {
     "data": {
      "text/plain": [
       "<AxesSubplot:xlabel='fecha reporte web'>"
      ]
     },
     "execution_count": 14,
     "metadata": {},
     "output_type": "execute_result"
    },
    {
     "data": {
      "image/png": "[encoded data removed]",
      "text/plain": [
       "<Figure size 432x288 with 1 Axes>"
      ]
     },
     "metadata": {
      "needs_background": "light"
     },
     "output_type": "display_data"
    }
   ],
   "source": [
    "df_porfecha=covid_norte.groupby(\"fecha reporte web\")[\"Edad\"].count().reset_index()\n",
    "df_porfecha.plot(x=\"fecha reporte web\",y=\"Edad\")"
   ]
  },
  {
   "cell_type": "code",
   "execution_count": 15,
   "metadata": {},
   "outputs": [
    {
     "data": {
      "text/html": [
       "<div>\n",
       "<style scoped>\n",
       "    .dataframe tbody tr th:only-of-type {\n",
       "        vertical-align: middle;\n",
       "    }\n",
       "\n",
       "    .dataframe tbody tr th {\n",
       "        vertical-align: top;\n",
       "    }\n",
       "\n",
       "    .dataframe thead th {\n",
       "        text-align: right;\n",
       "    }\n",
       "</style>\n",
       "<table border=\"1\" class=\"dataframe\">\n",
       "  <thead>\n",
       "    <tr style=\"text-align: right;\">\n",
       "      <th></th>\n",
       "      <th>Unnamed: 0</th>\n",
       "      <th>Nombre municipio</th>\n",
       "      <th>Sexo</th>\n",
       "      <th>Edad</th>\n",
       "    </tr>\n",
       "  </thead>\n",
       "  <tbody>\n",
       "    <tr>\n",
       "      <th>0</th>\n",
       "      <td>0</td>\n",
       "      <td>ABREGO</td>\n",
       "      <td>F</td>\n",
       "      <td>264</td>\n",
       "    </tr>\n",
       "    <tr>\n",
       "      <th>1</th>\n",
       "      <td>1</td>\n",
       "      <td>ABREGO</td>\n",
       "      <td>M</td>\n",
       "      <td>230</td>\n",
       "    </tr>\n",
       "    <tr>\n",
       "      <th>2</th>\n",
       "      <td>2</td>\n",
       "      <td>ARBOLEDAS</td>\n",
       "      <td>F</td>\n",
       "      <td>101</td>\n",
       "    </tr>\n",
       "    <tr>\n",
       "      <th>3</th>\n",
       "      <td>3</td>\n",
       "      <td>ARBOLEDAS</td>\n",
       "      <td>M</td>\n",
       "      <td>118</td>\n",
       "    </tr>\n",
       "    <tr>\n",
       "      <th>4</th>\n",
       "      <td>4</td>\n",
       "      <td>BOCHALEMA</td>\n",
       "      <td>F</td>\n",
       "      <td>142</td>\n",
       "    </tr>\n",
       "    <tr>\n",
       "      <th>...</th>\n",
       "      <td>...</td>\n",
       "      <td>...</td>\n",
       "      <td>...</td>\n",
       "      <td>...</td>\n",
       "    </tr>\n",
       "    <tr>\n",
       "      <th>75</th>\n",
       "      <td>75</td>\n",
       "      <td>TOLEDO</td>\n",
       "      <td>M</td>\n",
       "      <td>259</td>\n",
       "    </tr>\n",
       "    <tr>\n",
       "      <th>76</th>\n",
       "      <td>76</td>\n",
       "      <td>VILLA CARO</td>\n",
       "      <td>F</td>\n",
       "      <td>56</td>\n",
       "    </tr>\n",
       "    <tr>\n",
       "      <th>77</th>\n",
       "      <td>77</td>\n",
       "      <td>VILLA CARO</td>\n",
       "      <td>M</td>\n",
       "      <td>44</td>\n",
       "    </tr>\n",
       "    <tr>\n",
       "      <th>78</th>\n",
       "      <td>78</td>\n",
       "      <td>VILLA DEL ROSARIO</td>\n",
       "      <td>F</td>\n",
       "      <td>2984</td>\n",
       "    </tr>\n",
       "    <tr>\n",
       "      <th>79</th>\n",
       "      <td>79</td>\n",
       "      <td>VILLA DEL ROSARIO</td>\n",
       "      <td>M</td>\n",
       "      <td>2825</td>\n",
       "    </tr>\n",
       "  </tbody>\n",
       "</table>\n",
       "<p>80 rows × 4 columns</p>\n",
       "</div>"
      ],
      "text/plain": [
       "    Unnamed: 0   Nombre municipio Sexo  Edad\n",
       "0            0             ABREGO    F   264\n",
       "1            1             ABREGO    M   230\n",
       "2            2          ARBOLEDAS    F   101\n",
       "3            3          ARBOLEDAS    M   118\n",
       "4            4          BOCHALEMA    F   142\n",
       "..         ...                ...  ...   ...\n",
       "75          75             TOLEDO    M   259\n",
       "76          76         VILLA CARO    F    56\n",
       "77          77         VILLA CARO    M    44\n",
       "78          78  VILLA DEL ROSARIO    F  2984\n",
       "79          79  VILLA DEL ROSARIO    M  2825\n",
       "\n",
       "[80 rows x 4 columns]"
      ]
     },
     "execution_count": 15,
     "metadata": {},
     "output_type": "execute_result"
    }
   ],
   "source": [
    "df_nuevo=pd.read_csv(\"hola.csv\")\n",
    "df_nuevo"
   ]
  },
  {
   "cell_type": "code",
   "execution_count": null,
   "metadata": {},
   "outputs": [],
   "source": []
  }
 ],
 "metadata": {
  "kernelspec": {
   "display_name": "Python 3",
   "language": "python",
   "name": "python3"
  },
  "language_info": {
   "codemirror_mode": {
    "name": "ipython",
    "version": 3
   },
   "file_extension": ".py",
   "mimetype": "text/x-python",
   "name": "python",
   "nbconvert_exporter": "python",
   "pygments_lexer": "ipython3",
   "version": "3.8.5"
  }
 },
 "nbformat": 4,
 "nbformat_minor": 4
}
